{
 "cells": [
  {
   "cell_type": "markdown",
   "metadata": {},
   "source": [
    "**Remember the least and make the most**\n",
    "\n",
    "#### Representation: \n",
    ">attributes-variables = neurons in input-layer\n",
    "\n",
    "----\n",
    ">target-variables = neurons in output-layer\n",
    "\n",
    "----\n",
    ">Learning-algos = #nodes-each-layer + activation-f(a)-each-layer + search(optimization)\n",
    "\n",
    "----\n",
    "> training/fitting-model = training-set + initial-weights + learning-algos + enough-iterations\n",
    "\n",
    "----\n",
    "> trained-model = #nodes-each-layer + activation-f(a)-each-layer + best-weights-found\n",
    "\n",
    "----\n",
    "> purpose-of-training = finding the best weights\n",
    "\n",
    "----\n",
    "> predictions = test-set + trained-model\n",
    "\n",
    "#### Evaluation\n",
    "\n",
    "----\n",
    "> model-good-bad = Error = $(y^{(i)} - \\hat{y}^{(i)})^2$, i = data index, $()^2$ is better math\n",
    "\n",
    "----\n",
    "> good-model = $Error_{minimized}$\n",
    "\n",
    "#### Optimization\n",
    "\n",
    "----\n",
    "> weights-root-2-everything = $Error_{(w_{i,j})}$ ===> $w_{i,j}$ is **tuning knob** to achieve $Error_{minimum}$\n",
    "\n",
    "----\n",
    "> weights + Error ==> derivative ==> tuning-knob == 1-unit-weight-change **Convert** (?)-unit-direction-Error-change \n",
    "- derivative guide where and how-much weights update themselves\n",
    "- update weights towards $Error_{minimum}$ ==> weights = weights -=/+= learning_rate * $\\frac{dError}{dw}$\n",
    "\n",
    "----\n",
    "> **Derivative is constantly changing, so weights must constantly update**\n",
    "- $\\Delta{w}$ => $\\Delta{Error}$ => $\\Delta{\\frac{dE}{dw}}$=> $\\Delta$magnifying-power of tuning-knob => 1-unit-weight-change **Convert** (?+$\\Delta$)-unit-direction-Error-change \n",
    "\n",
    "----\n",
    "> forward-pass: given weights + data == updated-model + data => prediction => Error\n",
    "\n",
    "----\n",
    "> backward-pass: Error => $\\frac{dError}{dw}$ => new-weights = weights -=/+= learning_rate * $\\frac{dError}{dw}$     \n",
    "\n",
    "----    \n",
    "> forward-pass:  new-weights + data == new-model + data => new-prediction => new-Error  \n",
    "\n",
    "----\n",
    "> backward-pass: new-Error => new-$\\frac{dError}{dw}$ => $new_2$-weights = new-weights -=/+= learning_rate * new-$\\frac{dError}{dw}$\n",
    "\n",
    "----      \n",
    "> iterating forward-backward-pass is the way to reach optimal\n",
    "    "
   ]
  },
  {
   "cell_type": "code",
   "execution_count": null,
   "metadata": {
    "collapsed": true
   },
   "outputs": [],
   "source": []
  }
 ],
 "metadata": {
  "kernelspec": {
   "display_name": "Python 2",
   "language": "python",
   "name": "python2"
  },
  "language_info": {
   "codemirror_mode": {
    "name": "ipython",
    "version": 2
   },
   "file_extension": ".py",
   "mimetype": "text/x-python",
   "name": "python",
   "nbconvert_exporter": "python",
   "pygments_lexer": "ipython2",
   "version": "2.7.12"
  }
 },
 "nbformat": 4,
 "nbformat_minor": 1
}
